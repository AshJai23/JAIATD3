{
  "nbformat": 4,
  "nbformat_minor": 0,
  "metadata": {
    "colab": {
      "provenance": [],
      "authorship_tag": "ABX9TyM9jY11vO2/abC4RdhUfWhq",
      "include_colab_link": true
    },
    "kernelspec": {
      "name": "python3",
      "display_name": "Python 3"
    },
    "language_info": {
      "name": "python"
    }
  },
  "cells": [
    {
      "cell_type": "markdown",
      "metadata": {
        "id": "view-in-github",
        "colab_type": "text"
      },
      "source": [
        "<a href=\"https://colab.research.google.com/github/AshJai23/JAIATD3/blob/main/crypto.ipynb\" target=\"_parent\"><img src=\"https://colab.research.google.com/assets/colab-badge.svg\" alt=\"Open In Colab\"/></a>"
      ]
    },
    {
      "cell_type": "code",
      "execution_count": 1,
      "metadata": {
        "colab": {
          "base_uri": "https://localhost:8080/"
        },
        "id": "kSvYnK5n5g3Z",
        "outputId": "54dcec41-221d-4af5-8ccc-fa6fb711a858"
      },
      "outputs": [
        {
          "output_type": "stream",
          "name": "stdout",
          "text": [
            "Requirement already satisfied: schedule in /usr/local/lib/python3.11/dist-packages (1.2.2)\n"
          ]
        }
      ],
      "source": [
        "!pip install schedule\n"
      ]
    },
    {
      "cell_type": "code",
      "source": [
        "import requests\n",
        "import schedule\n",
        "import time\n",
        "import getpass\n",
        "import smtplib\n",
        "from email.mime.text import MIMEText\n",
        "\n",
        "# Get your email details securely in Colab\n",
        "sender_email = input(\"Enter your Gmail address: \")\n",
        "sender_password = getpass.getpass(\"Enter your Gmail App Password: \")\n",
        "recipient_email = input(\"Enter recipient email: \")\n"
      ],
      "metadata": {
        "colab": {
          "base_uri": "https://localhost:8080/"
        },
        "id": "MZoB1dhu6iPO",
        "outputId": "34ade177-5b2b-41d8-d0ac-3fc8f4256a44"
      },
      "execution_count": 2,
      "outputs": [
        {
          "name": "stdout",
          "output_type": "stream",
          "text": [
            "Enter your Gmail address: jaishal65003@gmail.com\n",
            "Enter your Gmail App Password: ··········\n",
            "Enter recipient email: ashlinjaishal23@gmail.com\n"
          ]
        }
      ]
    },
    {
      "cell_type": "code",
      "source": [
        "def send_email_alert(subject, message, sender_email, sender_password, recipient_email):\n",
        "    msg = MIMEText(message)\n",
        "    msg[\"Subject\"] = subject\n",
        "    msg[\"From\"] = sender_email\n",
        "    msg[\"To\"] = recipient_email\n",
        "\n",
        "    try:\n",
        "        with smtplib.SMTP_SSL(\"smtp.gmail.com\", 465) as server:\n",
        "            server.login(sender_email, sender_password)\n",
        "            server.send_message(msg)\n",
        "            print(\"✅ Email sent!\")\n",
        "    except Exception as e:\n",
        "        print(f\"❌ Failed to send email: {e}\")\n",
        "\n",
        "\n"
      ],
      "metadata": {
        "id": "v2hGfYOz60x3"
      },
      "execution_count": 3,
      "outputs": []
    },
    {
      "cell_type": "code",
      "source": [
        "def get_coingecko_price(coin='bitcoin', currency='usd'):\n",
        "    url = f\"https://api.coingecko.com/api/v3/simple/price?ids={coin}&vs_currencies={currency}\"\n",
        "    response = requests.get(url)\n",
        "    try:\n",
        "        data = response.json()\n",
        "        # Correctly access price without ['price']\n",
        "        return float(data[coin][currency])\n",
        "    except (KeyError, ValueError):\n",
        "        print(\"Error: Price key not found or invalid data\")\n",
        "        return None\n",
        "\n",
        "\n"
      ],
      "metadata": {
        "id": "H4tT0vfS65MD"
      },
      "execution_count": 4,
      "outputs": []
    },
    {
      "cell_type": "code",
      "source": [
        "BUY_LIMIT = 60000   # Alert if price <= this (buy)\n",
        "SELL_LIMIT = 65000  # Alert if price >= this (sell)\n",
        "\n",
        "def check_price():\n",
        "    try:\n",
        "        price = get_coingecko_price()\n",
        "        if price is None:\n",
        "            print(\"Failed to get price. Skipping alert check.\")\n",
        "            return\n",
        "\n",
        "        print(f\"Current BTC Price: ${price}\")\n",
        "\n",
        "        if price <= BUY_LIMIT:\n",
        "            msg = f\"🔔 BTC price alert: Price is low enough to BUY!\\nCurrent Price: ${price} ≤ Buy Limit: ${BUY_LIMIT}\"\n",
        "            send_email_alert(\"🔔 BTC Buy Alert\", msg, sender_email, sender_password, recipient_email)\n",
        "\n",
        "        elif price >= SELL_LIMIT:\n",
        "            msg = f\"🔔 BTC price alert: Price is high enough to SELL!\\nCurrent Price: ${price} ≥ Sell Limit: ${SELL_LIMIT}\"\n",
        "            send_email_alert(\"🔔 BTC Sell Alert\", msg, sender_email, sender_password, recipient_email)\n",
        "    except Exception as e:\n",
        "        import traceback\n",
        "        print(\"Exception occurred in check_price:\")\n",
        "        traceback.print_exc()\n",
        "\n"
      ],
      "metadata": {
        "id": "GnBla0xV7AT9"
      },
      "execution_count": 5,
      "outputs": []
    },
    {
      "cell_type": "code",
      "source": [
        "import datetime\n",
        "\n",
        "schedule.every(60).seconds.do(check_price)\n",
        "\n",
        "print(\"📈 Tracking BTC price with Buy/Sell alerts... Alerts will be sent via email.\\n\")\n",
        "\n",
        "run_duration = 10  # minutes\n",
        "start_time = datetime.datetime.now()\n",
        "\n",
        "while (datetime.datetime.now() - start_time).seconds < run_duration * 60:\n",
        "    schedule.run_pending()\n",
        "    time.sleep(1)\n",
        "\n"
      ],
      "metadata": {
        "colab": {
          "base_uri": "https://localhost:8080/"
        },
        "collapsed": true,
        "id": "l4d4RY9v_p7c",
        "outputId": "6cc55e99-4d12-4f1e-d2be-67dc422b36b8"
      },
      "execution_count": 6,
      "outputs": [
        {
          "output_type": "stream",
          "name": "stdout",
          "text": [
            "📈 Tracking BTC price with Buy/Sell alerts... Alerts will be sent via email.\n",
            "\n",
            "Current BTC Price: $106923.0\n",
            "✅ Email sent!\n",
            "Current BTC Price: $106935.0\n",
            "✅ Email sent!\n",
            "Current BTC Price: $106937.0\n",
            "✅ Email sent!\n",
            "Current BTC Price: $106968.0\n",
            "✅ Email sent!\n",
            "Current BTC Price: $106982.0\n",
            "✅ Email sent!\n",
            "Current BTC Price: $107005.0\n",
            "✅ Email sent!\n",
            "Current BTC Price: $107016.0\n",
            "✅ Email sent!\n",
            "Current BTC Price: $107023.0\n",
            "✅ Email sent!\n",
            "Current BTC Price: $107035.0\n",
            "✅ Email sent!\n"
          ]
        }
      ]
    }
  ]
}